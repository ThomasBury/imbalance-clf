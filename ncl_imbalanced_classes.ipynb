{
 "cells": [
  {
   "cell_type": "code",
   "execution_count": 11,
   "metadata": {
    "collapsed": false,
    "jupyter": {
     "outputs_hidden": false
    }
   },
   "outputs": [],
   "source": [
    "%matplotlib inline\n",
    "import matplotlib.pyplot as plt\n",
    "import pandas as pd"
   ]
  },
  {
   "cell_type": "markdown",
   "metadata": {},
   "source": [
    "\n",
    "# Fitting model on imbalanced datasets and how to fight bias\n",
    "\n",
    "\n",
    "This example illustrates the problem induced by learning on datasets having\n",
    "imbalanced classes. Subsequently, we compare different approaches alleviating\n",
    "these negative effects.\n"
   ]
  },
  {
   "cell_type": "code",
   "execution_count": 6,
   "metadata": {
    "collapsed": false,
    "jupyter": {
     "outputs_hidden": false
    }
   },
   "outputs": [
    {
     "name": "stdout",
     "output_type": "stream",
     "text": [
      "Automatically created module for IPython interactive environment\n"
     ]
    }
   ],
   "source": [
    "# Authors: Guillaume Lemaitre <g.lemaitre58@gmail.com>\n",
    "# License: MIT\n",
    "\n",
    "print(__doc__)"
   ]
  },
  {
   "cell_type": "code",
   "execution_count": 7,
   "metadata": {},
   "outputs": [],
   "source": [
    "def sigmoid(x): return 1./(1. +  np.exp(-x))\n",
    "\n",
    "def focal_loss_lgb(y_pred, dtrain, alpha, gamma):\n",
    "    \"\"\"\n",
    "    Focal Loss for lightgbm\n",
    "\n",
    "    Parameters:\n",
    "    -----------\n",
    "    y_pred: numpy.ndarray\n",
    "        array with the predictions\n",
    "    dtrain: lightgbm.Dataset\n",
    "    alpha, gamma: float\n",
    "        See original paper https://arxiv.org/pdf/1708.02002.pdf\n",
    "    \"\"\"\n",
    "    a,g = alpha, gamma\n",
    "    y_true = dtrain.label\n",
    "    def fl(x,t):\n",
    "        p = 1/(1+np.exp(-x))\n",
    "        return -( a*t + (1-a)*(1-t) ) * (( 1 - ( t*p + (1-t)*(1-p)) )**g) * ( t*np.log(p)+(1-t)*np.log(1-p) )\n",
    "    partial_fl = lambda x: fl(x, y_true)\n",
    "    grad = derivative(partial_fl, y_pred, n=1, dx=1e-6)\n",
    "    hess = derivative(partial_fl, y_pred, n=2, dx=1e-6)\n",
    "    return grad, hess\n",
    "\n",
    "def lgb_focal_f1_score(preds, lgbDataset):\n",
    "    \"\"\"\n",
    "    When using custom losses the row prediction needs to passed through a\n",
    "    sigmoid to represent a probability\n",
    "\n",
    "    Parameters:\n",
    "    -----------\n",
    "    preds: numpy.ndarray\n",
    "        array with the predictions\n",
    "    lgbDataset: lightgbm.Dataset\n",
    "    \"\"\"\n",
    "    preds = sigmoid(preds)\n",
    "    binary_preds = [int(p>=0.5) for p in preds]\n",
    "    y_true = lgbDataset.get_label()\n",
    "    return 'f1', f1_score(y_true, binary_preds), True"
   ]
  },
  {
   "cell_type": "markdown",
   "metadata": {},
   "source": [
    "Problem definition\n",
    "##############################################################################\n",
    "\n"
   ]
  },
  {
   "cell_type": "code",
   "execution_count": 2,
   "metadata": {
    "collapsed": false,
    "jupyter": {
     "outputs_hidden": false
    }
   },
   "outputs": [],
   "source": [
    "from sklearn.datasets import fetch_openml\n",
    "import pandas as pd\n",
    "\n",
    "# df = pd.read_csv(\"C:/Users/xtbury/Documents/Projects/imblearn/adult.csv\")\n",
    "# y = df['target'].copy()\n",
    "# df = df.drop(columns=['target'])\n",
    "\n",
    "# df, y = fetch_openml('adult', version=2, as_frame=True, return_X_y=True)\n",
    "# # we are dropping the following features:\n",
    "# # - \"fnlwgt\": this feature was created while studying the \"adult\" dataset.\n",
    "# #   Thus, we will not use this feature which is not acquired during the survey.\n",
    "# # - \"education-num\": it is encoding the same information than \"education\".\n",
    "# #   Thus, we are removing one of these 2 features.\n",
    "# df = df.drop(columns=['fnlwgt', 'education-num'])"
   ]
  },
  {
   "cell_type": "code",
   "execution_count": 12,
   "metadata": {},
   "outputs": [
    {
     "data": {
      "image/png": "[encoded data removed]",
      "text/plain": [
       "<Figure size 432x288 with 1 Axes>"
      ]
     },
     "metadata": {
      "needs_background": "light"
     },
     "output_type": "display_data"
    }
   ],
   "source": []
  },
  {
   "cell_type": "code",
   "execution_count": 116,
   "metadata": {},
   "outputs": [],
   "source": [
    "import pyarrow.parquet as pq\n",
    "import pyarrow as pa\n",
    "dataset_path = \"C:/Users/[user_id]/Documents/demo/french_tpl.parquet\"\n",
    "ins_df = pq.read_table(dataset_path).to_pandas()\n",
    "ins_df = ins_df.convert_dtypes()\n",
    "\n",
    "predictors = ['Area','VehPower', 'VehAge', 'DrivAge', 'BonusMalus', 'VehBrand', 'VehGas', 'Density', 'Region']\n",
    "cat_f = ['Area', 'VehBrand', 'VehGas', 'Region']\n",
    "\n",
    "num_cols = list(set(predictors) - set(cat_f))\n",
    "ins_df[num_cols] = ins_df[num_cols].astype(np.float64)\n",
    "y = ins_df ['ClaimNb'].copy()\n",
    "y = y.fillna(0)\n",
    "y = (1*(ins_df ['ClaimNb'] > 0)).astype(np.int64)\n",
    "df = ins_df[predictors].copy()\n",
    "df[cat_f] = df[cat_f].astype(\"category\")"
   ]
  },
  {
   "cell_type": "code",
   "execution_count": 117,
   "metadata": {},
   "outputs": [
    {
     "data": {
      "image/png": "[encoded data removed]",
      "text/plain": [
       "<Figure size 432x288 with 1 Axes>"
      ]
     },
     "metadata": {
      "needs_background": "light"
     },
     "output_type": "display_data"
    }
   ],
   "source": [
    "plt.hist(y)\n",
    "plt.yscale('log')"
   ]
  },
  {
   "cell_type": "markdown",
   "metadata": {},
   "source": [
    "The dataset as a class ratio of about 26:1\n",
    "\n"
   ]
  },
  {
   "cell_type": "code",
   "execution_count": 118,
   "metadata": {
    "collapsed": false,
    "jupyter": {
     "outputs_hidden": false
    }
   },
   "outputs": [
    {
     "data": {
      "text/plain": [
       "0    653069\n",
       "1     24944\n",
       "Name: ClaimNb, dtype: int64"
      ]
     },
     "execution_count": 118,
     "metadata": {},
     "output_type": "execute_result"
    }
   ],
   "source": [
    "classes_count = y.value_counts()\n",
    "classes_count"
   ]
  },
  {
   "cell_type": "markdown",
   "metadata": {},
   "source": [
    "This dataset is only slightly imbalanced. To better highlight the effect of\n",
    "learning from an imbalanced dataset, we will increase its ratio to 30:1\n",
    "\n"
   ]
  },
  {
   "cell_type": "code",
   "execution_count": 119,
   "metadata": {
    "collapsed": false,
    "jupyter": {
     "outputs_hidden": false
    }
   },
   "outputs": [],
   "source": [
    "# claims is unbalanced\n",
    "y_res = y\n",
    "df_res = df"
   ]
  },
  {
   "cell_type": "markdown",
   "metadata": {},
   "source": [
    "For the rest of the notebook, we will make a single split to get training\n",
    "and testing data. Note that you should use cross-validation to have an\n",
    "estimate of the performance variation in practice.\n",
    "\n"
   ]
  },
  {
   "cell_type": "code",
   "execution_count": 120,
   "metadata": {
    "collapsed": false,
    "jupyter": {
     "outputs_hidden": false
    }
   },
   "outputs": [],
   "source": [
    "from sklearn.model_selection import train_test_split\n",
    "\n",
    "X_train, X_test, y_train, y_test = train_test_split(\n",
    "    df_res, y_res, stratify=y_res, random_state=42\n",
    ")"
   ]
  },
  {
   "cell_type": "markdown",
   "metadata": {},
   "source": [
    "As a baseline, we could use a classifier which will always predict the\n",
    "majority class independently of the features provided.\n",
    "\n"
   ]
  },
  {
   "cell_type": "code",
   "execution_count": 121,
   "metadata": {
    "collapsed": false,
    "jupyter": {
     "outputs_hidden": false
    }
   },
   "outputs": [
    {
     "name": "stdout",
     "output_type": "stream",
     "text": [
      "Accuracy score of a dummy classifier: 0.963\n"
     ]
    }
   ],
   "source": [
    "from sklearn.dummy import DummyClassifier\n",
    "\n",
    "dummy_clf = DummyClassifier(strategy=\"most_frequent\")\n",
    "score = dummy_clf.fit(X_train, y_train).score(X_test, y_test)\n",
    "print(f\"Accuracy score of a dummy classifier: {score:.3f}\")"
   ]
  },
  {
   "cell_type": "markdown",
   "metadata": {},
   "source": [
    "Instead of using the accuracy, we can use the balanced accuracy which will\n",
    "take into account the balancing issue.\n",
    "\n"
   ]
  },
  {
   "cell_type": "code",
   "execution_count": 122,
   "metadata": {
    "collapsed": false,
    "jupyter": {
     "outputs_hidden": false
    }
   },
   "outputs": [
    {
     "name": "stdout",
     "output_type": "stream",
     "text": [
      "Balanced accuracy score of a dummy classifier: 0.500\n"
     ]
    }
   ],
   "source": [
    "from sklearn.metrics import balanced_accuracy_score\n",
    "\n",
    "y_pred = dummy_clf.predict(X_test)\n",
    "score = balanced_accuracy_score(y_test, y_pred)\n",
    "print(f\"Balanced accuracy score of a dummy classifier: {score:.3f}\")"
   ]
  },
  {
   "cell_type": "markdown",
   "metadata": {},
   "source": [
    "Strategies to learn from an imbalanced dataset\n",
    "##############################################################################\n",
    "\n"
   ]
  },
  {
   "cell_type": "markdown",
   "metadata": {},
   "source": [
    "We will first define a helper function which will train a given model\n",
    "and compute both accuracy and balanced accuracy. The results will be stored\n",
    "in a dataframe\n",
    "\n"
   ]
  },
  {
   "cell_type": "code",
   "execution_count": 123,
   "metadata": {
    "collapsed": false,
    "jupyter": {
     "outputs_hidden": false
    }
   },
   "outputs": [],
   "source": [
    "import pandas as pd\n",
    "\n",
    "\n",
    "def evaluate_classifier(clf, df_scores, clf_name=None):\n",
    "    from sklearn.pipeline import Pipeline\n",
    "    if clf_name is None:\n",
    "        if isinstance(clf, Pipeline):\n",
    "            clf_name = clf[-1].__class__.__name__\n",
    "        else:\n",
    "            clf_name = clf.__class__.__name__\n",
    "    clf.fit(X_train, y_train)\n",
    "    acc = clf.score(X_test, y_test)\n",
    "    y_pred = clf.predict(X_test)\n",
    "    y_pred = np.asarray(y_pred)\n",
    "    bal_acc = balanced_accuracy_score(y_test, y_pred)\n",
    "    clf_score = pd.DataFrame(\n",
    "        {clf_name: [acc, bal_acc]},\n",
    "        index=['Accuracy', 'Balanced accuracy']\n",
    "    )\n",
    "    df_scores = pd.concat([df_scores, clf_score], axis=1).round(decimals=3)\n",
    "    return df_scores\n",
    "\n",
    "\n",
    "# Let's define an empty dataframe to store the results\n",
    "df_scores = pd.DataFrame()"
   ]
  },
  {
   "cell_type": "markdown",
   "metadata": {},
   "source": [
    "Dummy baseline\n",
    "..............\n",
    "\n",
    "Before to train a real machine learning model, we can store the results\n",
    "obtained with our `DummyClassifier`.\n",
    "\n"
   ]
  },
  {
   "cell_type": "code",
   "execution_count": 124,
   "metadata": {
    "collapsed": false,
    "jupyter": {
     "outputs_hidden": false
    }
   },
   "outputs": [
    {
     "data": {
      "text/html": [
       "<div>\n",
       "<style scoped>\n",
       "    .dataframe tbody tr th:only-of-type {\n",
       "        vertical-align: middle;\n",
       "    }\n",
       "\n",
       "    .dataframe tbody tr th {\n",
       "        vertical-align: top;\n",
       "    }\n",
       "\n",
       "    .dataframe thead th {\n",
       "        text-align: right;\n",
       "    }\n",
       "</style>\n",
       "<table border=\"1\" class=\"dataframe\">\n",
       "  <thead>\n",
       "    <tr style=\"text-align: right;\">\n",
       "      <th></th>\n",
       "      <th>Dummy</th>\n",
       "    </tr>\n",
       "  </thead>\n",
       "  <tbody>\n",
       "    <tr>\n",
       "      <th>Accuracy</th>\n",
       "      <td>0.963</td>\n",
       "    </tr>\n",
       "    <tr>\n",
       "      <th>Balanced accuracy</th>\n",
       "      <td>0.500</td>\n",
       "    </tr>\n",
       "  </tbody>\n",
       "</table>\n",
       "</div>"
      ],
      "text/plain": [
       "                   Dummy\n",
       "Accuracy           0.963\n",
       "Balanced accuracy  0.500"
      ]
     },
     "execution_count": 124,
     "metadata": {},
     "output_type": "execute_result"
    }
   ],
   "source": [
    "df_scores = evaluate_classifier(dummy_clf, df_scores, \"Dummy\")\n",
    "df_scores"
   ]
  },
  {
   "cell_type": "markdown",
   "metadata": {},
   "source": [
    "Linear classifier baseline\n",
    "..........................\n",
    "\n",
    "We will create a machine learning pipeline using a `LogisticRegression`\n",
    "classifier. In this regard, we will need to one-hot encode the categorical\n",
    "columns and standardized the numerical columns before to inject the data into\n",
    "the `LogisticRegression` classifier.\n",
    "\n",
    "First, we define our numerical and categorical pipelines.\n",
    "\n"
   ]
  },
  {
   "cell_type": "code",
   "execution_count": 125,
   "metadata": {
    "collapsed": false,
    "jupyter": {
     "outputs_hidden": false
    }
   },
   "outputs": [],
   "source": [
    "from sklearn.impute import SimpleImputer\n",
    "from sklearn.preprocessing import StandardScaler\n",
    "from sklearn.preprocessing import OneHotEncoder, OrdinalEncoder\n",
    "from sklearn.pipeline import make_pipeline\n",
    "\n",
    "num_pipe = make_pipeline(\n",
    "    StandardScaler(), SimpleImputer(strategy=\"mean\", add_indicator=True)\n",
    ")\n",
    "cat_pipe = make_pipeline(\n",
    "    SimpleImputer(strategy=\"constant\", fill_value=\"missing\"),\n",
    "    OrdinalEncoder() #OneHotEncoder(handle_unknown=\"ignore\")\n",
    ")"
   ]
  },
  {
   "cell_type": "markdown",
   "metadata": {},
   "source": [
    "Then, we can create a preprocessor which will dispatch the categorical\n",
    "columns to the categorical pipeline and the numerical columns to the\n",
    "numerical pipeline\n",
    "\n"
   ]
  },
  {
   "cell_type": "code",
   "execution_count": 126,
   "metadata": {
    "collapsed": false,
    "jupyter": {
     "outputs_hidden": false
    }
   },
   "outputs": [],
   "source": [
    "import numpy as np\n",
    "from sklearn.compose import ColumnTransformer\n",
    "from sklearn.compose import make_column_selector as selector\n",
    "\n",
    "preprocessor_linear = ColumnTransformer(\n",
    "    [(\"num-pipe\", num_pipe, selector(dtype_include=np.number)),\n",
    "     (\"cat-pipe\", cat_pipe, selector(dtype_include=pd.CategoricalDtype))],\n",
    "    n_jobs=2\n",
    ")"
   ]
  },
  {
   "cell_type": "markdown",
   "metadata": {},
   "source": [
    "Finally, we connect our preprocessor with our `LogisticRegression`. We can\n",
    "then evaluate our model.\n",
    "\n"
   ]
  },
  {
   "cell_type": "code",
   "execution_count": 127,
   "metadata": {
    "collapsed": false,
    "jupyter": {
     "outputs_hidden": false
    }
   },
   "outputs": [
    {
     "data": {
      "text/html": [
       "<div>\n",
       "<style scoped>\n",
       "    .dataframe tbody tr th:only-of-type {\n",
       "        vertical-align: middle;\n",
       "    }\n",
       "\n",
       "    .dataframe tbody tr th {\n",
       "        vertical-align: top;\n",
       "    }\n",
       "\n",
       "    .dataframe thead th {\n",
       "        text-align: right;\n",
       "    }\n",
       "</style>\n",
       "<table border=\"1\" class=\"dataframe\">\n",
       "  <thead>\n",
       "    <tr style=\"text-align: right;\">\n",
       "      <th></th>\n",
       "      <th>Dummy</th>\n",
       "      <th>LR</th>\n",
       "    </tr>\n",
       "  </thead>\n",
       "  <tbody>\n",
       "    <tr>\n",
       "      <th>Accuracy</th>\n",
       "      <td>0.963</td>\n",
       "      <td>0.963</td>\n",
       "    </tr>\n",
       "    <tr>\n",
       "      <th>Balanced accuracy</th>\n",
       "      <td>0.500</td>\n",
       "      <td>0.500</td>\n",
       "    </tr>\n",
       "  </tbody>\n",
       "</table>\n",
       "</div>"
      ],
      "text/plain": [
       "                   Dummy     LR\n",
       "Accuracy           0.963  0.963\n",
       "Balanced accuracy  0.500  0.500"
      ]
     },
     "execution_count": 127,
     "metadata": {},
     "output_type": "execute_result"
    }
   ],
   "source": [
    "from sklearn.linear_model import LogisticRegression\n",
    "\n",
    "lr_clf = make_pipeline(\n",
    "    preprocessor_linear, LogisticRegression(max_iter=1000)\n",
    ")\n",
    "df_scores = evaluate_classifier(lr_clf, df_scores, \"LR\")\n",
    "df_scores"
   ]
  },
  {
   "cell_type": "markdown",
   "metadata": {},
   "source": [
    "We can see that our linear model is learning slightly better than our dummy\n",
    "baseline. However, it is impacted by the class imbalance.\n",
    "\n",
    "We can verify that something similar is happening with a tree-based model\n",
    "such as `RandomForestClassifier`. With this type of classifier, we will not\n",
    "need to scale the numerical data, and we will only need to ordinal encode the\n",
    "categorical data.\n",
    "\n"
   ]
  },
  {
   "cell_type": "code",
   "execution_count": 128,
   "metadata": {
    "collapsed": false,
    "jupyter": {
     "outputs_hidden": false
    }
   },
   "outputs": [
    {
     "data": {
      "text/html": [
       "<div>\n",
       "<style scoped>\n",
       "    .dataframe tbody tr th:only-of-type {\n",
       "        vertical-align: middle;\n",
       "    }\n",
       "\n",
       "    .dataframe tbody tr th {\n",
       "        vertical-align: top;\n",
       "    }\n",
       "\n",
       "    .dataframe thead th {\n",
       "        text-align: right;\n",
       "    }\n",
       "</style>\n",
       "<table border=\"1\" class=\"dataframe\">\n",
       "  <thead>\n",
       "    <tr style=\"text-align: right;\">\n",
       "      <th></th>\n",
       "      <th>Dummy</th>\n",
       "      <th>LR</th>\n",
       "      <th>RF</th>\n",
       "    </tr>\n",
       "  </thead>\n",
       "  <tbody>\n",
       "    <tr>\n",
       "      <th>Accuracy</th>\n",
       "      <td>0.963</td>\n",
       "      <td>0.963</td>\n",
       "      <td>0.957</td>\n",
       "    </tr>\n",
       "    <tr>\n",
       "      <th>Balanced accuracy</th>\n",
       "      <td>0.500</td>\n",
       "      <td>0.500</td>\n",
       "      <td>0.502</td>\n",
       "    </tr>\n",
       "  </tbody>\n",
       "</table>\n",
       "</div>"
      ],
      "text/plain": [
       "                   Dummy     LR     RF\n",
       "Accuracy           0.963  0.963  0.957\n",
       "Balanced accuracy  0.500  0.500  0.502"
      ]
     },
     "execution_count": 128,
     "metadata": {},
     "output_type": "execute_result"
    }
   ],
   "source": [
    "from sklearn.preprocessing import OrdinalEncoder, LabelEncoder\n",
    "from sklearn.ensemble import RandomForestClassifier\n",
    "\n",
    "cat_pipe = make_pipeline(\n",
    "    SimpleImputer(strategy=\"constant\", fill_value=\"missing\"),\n",
    "    OrdinalEncoder()\n",
    ")\n",
    "\n",
    "preprocessor_tree = ColumnTransformer(\n",
    "    [(\"num-pipe\", num_pipe, selector(dtype_include=np.number)),\n",
    "     (\"cat-pipe\", cat_pipe, selector(dtype_include=pd.CategoricalDtype))],\n",
    "    n_jobs=2\n",
    ")\n",
    "\n",
    "rf_clf = make_pipeline(\n",
    "    preprocessor_tree, RandomForestClassifier(random_state=42, n_jobs=2)\n",
    ")\n",
    "\n",
    "df_scores = evaluate_classifier(rf_clf, df_scores, \"RF\")\n",
    "df_scores"
   ]
  },
  {
   "cell_type": "code",
   "execution_count": 129,
   "metadata": {},
   "outputs": [
    {
     "data": {
      "text/html": [
       "<div>\n",
       "<style scoped>\n",
       "    .dataframe tbody tr th:only-of-type {\n",
       "        vertical-align: middle;\n",
       "    }\n",
       "\n",
       "    .dataframe tbody tr th {\n",
       "        vertical-align: top;\n",
       "    }\n",
       "\n",
       "    .dataframe thead th {\n",
       "        text-align: right;\n",
       "    }\n",
       "</style>\n",
       "<table border=\"1\" class=\"dataframe\">\n",
       "  <thead>\n",
       "    <tr style=\"text-align: right;\">\n",
       "      <th></th>\n",
       "      <th>Dummy</th>\n",
       "      <th>LR</th>\n",
       "      <th>RF</th>\n",
       "      <th>LGB</th>\n",
       "    </tr>\n",
       "  </thead>\n",
       "  <tbody>\n",
       "    <tr>\n",
       "      <th>Accuracy</th>\n",
       "      <td>0.963</td>\n",
       "      <td>0.963</td>\n",
       "      <td>0.957</td>\n",
       "      <td>0.963</td>\n",
       "    </tr>\n",
       "    <tr>\n",
       "      <th>Balanced accuracy</th>\n",
       "      <td>0.500</td>\n",
       "      <td>0.500</td>\n",
       "      <td>0.502</td>\n",
       "      <td>0.500</td>\n",
       "    </tr>\n",
       "  </tbody>\n",
       "</table>\n",
       "</div>"
      ],
      "text/plain": [
       "                   Dummy     LR     RF    LGB\n",
       "Accuracy           0.963  0.963  0.957  0.963\n",
       "Balanced accuracy  0.500  0.500  0.502  0.500"
      ]
     },
     "execution_count": 129,
     "metadata": {},
     "output_type": "execute_result"
    }
   ],
   "source": [
    "from lightgbm import LGBMClassifier\n",
    "\n",
    "cat_pipe = make_pipeline(\n",
    "    SimpleImputer(strategy=\"constant\", fill_value=\"missing\"),\n",
    "    OrdinalEncoder()\n",
    ")\n",
    "\n",
    "preprocessor_tree = ColumnTransformer(\n",
    "    [(\"num-pipe\", num_pipe, selector(dtype_include=np.number)),\n",
    "     (\"cat-pipe\", cat_pipe, selector(dtype_include=pd.CategoricalDtype))],\n",
    "    n_jobs=2\n",
    ")\n",
    "\n",
    "lgb_clf = make_pipeline(\n",
    "    preprocessor_tree, LGBMClassifier(random_state=42, n_jobs=-1)\n",
    ")\n",
    "\n",
    "df_scores = evaluate_classifier(lgb_clf, df_scores, \"LGB\")\n",
    "df_scores"
   ]
  },
  {
   "cell_type": "code",
   "execution_count": 133,
   "metadata": {},
   "outputs": [
    {
     "data": {
      "text/html": [
       "<div>\n",
       "<style scoped>\n",
       "    .dataframe tbody tr th:only-of-type {\n",
       "        vertical-align: middle;\n",
       "    }\n",
       "\n",
       "    .dataframe tbody tr th {\n",
       "        vertical-align: top;\n",
       "    }\n",
       "\n",
       "    .dataframe thead th {\n",
       "        text-align: right;\n",
       "    }\n",
       "</style>\n",
       "<table border=\"1\" class=\"dataframe\">\n",
       "  <thead>\n",
       "    <tr style=\"text-align: right;\">\n",
       "      <th></th>\n",
       "      <th>Dummy</th>\n",
       "      <th>LR</th>\n",
       "      <th>RF</th>\n",
       "      <th>LGB</th>\n",
       "      <th>Cat</th>\n",
       "    </tr>\n",
       "  </thead>\n",
       "  <tbody>\n",
       "    <tr>\n",
       "      <th>Accuracy</th>\n",
       "      <td>0.963</td>\n",
       "      <td>0.963</td>\n",
       "      <td>0.957</td>\n",
       "      <td>0.963</td>\n",
       "      <td>0.963</td>\n",
       "    </tr>\n",
       "    <tr>\n",
       "      <th>Balanced accuracy</th>\n",
       "      <td>0.500</td>\n",
       "      <td>0.500</td>\n",
       "      <td>0.502</td>\n",
       "      <td>0.500</td>\n",
       "      <td>0.500</td>\n",
       "    </tr>\n",
       "  </tbody>\n",
       "</table>\n",
       "</div>"
      ],
      "text/plain": [
       "                   Dummy     LR     RF    LGB    Cat\n",
       "Accuracy           0.963  0.963  0.957  0.963  0.963\n",
       "Balanced accuracy  0.500  0.500  0.502  0.500  0.500"
      ]
     },
     "execution_count": 133,
     "metadata": {},
     "output_type": "execute_result"
    }
   ],
   "source": [
    "from catboost import CatBoostClassifier\n",
    "cat_clf = CatBoostClassifier(random_state=42, cat_features=cat_f, verbose=0)\n",
    "\n",
    "df_scores = evaluate_classifier(\n",
    "    cat_clf, df_scores, \"Cat\"\n",
    ")\n",
    "df_scores"
   ]
  },
  {
   "cell_type": "markdown",
   "metadata": {},
   "source": [
    "The `RandomForestClassifier` is as well affected by the class imbalanced,\n",
    "slightly less than the linear model. Now, we will present different approach\n",
    "to improve the performance of these 2 models.\n",
    "\n",
    "Use `class_weight`\n",
    "..................\n",
    "\n",
    "Most of the models in `scikit-learn` have a parameter `class_weight`. This\n",
    "parameter will affect the computation of the loss in linear model or the\n",
    "criterion in the tree-based model to penalize differently a false\n",
    "classification from the minority and majority class. We can set\n",
    "`class_weight=\"balanced\"` such that the weight applied is inversely\n",
    "proportional to the class frequency. We test this parametrization in both\n",
    "linear model and tree-based model.\n",
    "\n"
   ]
  },
  {
   "cell_type": "code",
   "execution_count": 134,
   "metadata": {
    "collapsed": false,
    "jupyter": {
     "outputs_hidden": false
    }
   },
   "outputs": [
    {
     "data": {
      "text/html": [
       "<div>\n",
       "<style scoped>\n",
       "    .dataframe tbody tr th:only-of-type {\n",
       "        vertical-align: middle;\n",
       "    }\n",
       "\n",
       "    .dataframe tbody tr th {\n",
       "        vertical-align: top;\n",
       "    }\n",
       "\n",
       "    .dataframe thead th {\n",
       "        text-align: right;\n",
       "    }\n",
       "</style>\n",
       "<table border=\"1\" class=\"dataframe\">\n",
       "  <thead>\n",
       "    <tr style=\"text-align: right;\">\n",
       "      <th></th>\n",
       "      <th>Dummy</th>\n",
       "      <th>LR</th>\n",
       "      <th>RF</th>\n",
       "      <th>LGB</th>\n",
       "      <th>Cat</th>\n",
       "      <th>LR CW</th>\n",
       "    </tr>\n",
       "  </thead>\n",
       "  <tbody>\n",
       "    <tr>\n",
       "      <th>Accuracy</th>\n",
       "      <td>0.963</td>\n",
       "      <td>0.963</td>\n",
       "      <td>0.957</td>\n",
       "      <td>0.963</td>\n",
       "      <td>0.963</td>\n",
       "      <td>0.666</td>\n",
       "    </tr>\n",
       "    <tr>\n",
       "      <th>Balanced accuracy</th>\n",
       "      <td>0.500</td>\n",
       "      <td>0.500</td>\n",
       "      <td>0.502</td>\n",
       "      <td>0.500</td>\n",
       "      <td>0.500</td>\n",
       "      <td>0.566</td>\n",
       "    </tr>\n",
       "  </tbody>\n",
       "</table>\n",
       "</div>"
      ],
      "text/plain": [
       "                   Dummy     LR     RF    LGB    Cat  LR CW\n",
       "Accuracy           0.963  0.963  0.957  0.963  0.963  0.666\n",
       "Balanced accuracy  0.500  0.500  0.502  0.500  0.500  0.566"
      ]
     },
     "execution_count": 134,
     "metadata": {},
     "output_type": "execute_result"
    }
   ],
   "source": [
    "lr_clf.set_params(logisticregression__class_weight=\"balanced\")\n",
    "df_scores = evaluate_classifier(\n",
    "    lr_clf, df_scores, \"LR CW\"\n",
    ")\n",
    "df_scores"
   ]
  },
  {
   "cell_type": "code",
   "execution_count": 135,
   "metadata": {
    "collapsed": false,
    "jupyter": {
     "outputs_hidden": false
    }
   },
   "outputs": [
    {
     "data": {
      "text/html": [
       "<div>\n",
       "<style scoped>\n",
       "    .dataframe tbody tr th:only-of-type {\n",
       "        vertical-align: middle;\n",
       "    }\n",
       "\n",
       "    .dataframe tbody tr th {\n",
       "        vertical-align: top;\n",
       "    }\n",
       "\n",
       "    .dataframe thead th {\n",
       "        text-align: right;\n",
       "    }\n",
       "</style>\n",
       "<table border=\"1\" class=\"dataframe\">\n",
       "  <thead>\n",
       "    <tr style=\"text-align: right;\">\n",
       "      <th></th>\n",
       "      <th>Dummy</th>\n",
       "      <th>LR</th>\n",
       "      <th>RF</th>\n",
       "      <th>LGB</th>\n",
       "      <th>Cat</th>\n",
       "      <th>LR CW</th>\n",
       "      <th>RF CW</th>\n",
       "    </tr>\n",
       "  </thead>\n",
       "  <tbody>\n",
       "    <tr>\n",
       "      <th>Accuracy</th>\n",
       "      <td>0.963</td>\n",
       "      <td>0.963</td>\n",
       "      <td>0.957</td>\n",
       "      <td>0.963</td>\n",
       "      <td>0.963</td>\n",
       "      <td>0.666</td>\n",
       "      <td>0.954</td>\n",
       "    </tr>\n",
       "    <tr>\n",
       "      <th>Balanced accuracy</th>\n",
       "      <td>0.500</td>\n",
       "      <td>0.500</td>\n",
       "      <td>0.502</td>\n",
       "      <td>0.500</td>\n",
       "      <td>0.500</td>\n",
       "      <td>0.566</td>\n",
       "      <td>0.500</td>\n",
       "    </tr>\n",
       "  </tbody>\n",
       "</table>\n",
       "</div>"
      ],
      "text/plain": [
       "                   Dummy     LR     RF    LGB    Cat  LR CW  RF CW\n",
       "Accuracy           0.963  0.963  0.957  0.963  0.963  0.666  0.954\n",
       "Balanced accuracy  0.500  0.500  0.502  0.500  0.500  0.566  0.500"
      ]
     },
     "execution_count": 135,
     "metadata": {},
     "output_type": "execute_result"
    }
   ],
   "source": [
    "rf_clf.set_params(randomforestclassifier__class_weight=\"balanced\")\n",
    "df_scores = evaluate_classifier(\n",
    "    rf_clf, df_scores, \"RF CW\"\n",
    ")\n",
    "df_scores"
   ]
  },
  {
   "cell_type": "code",
   "execution_count": 136,
   "metadata": {},
   "outputs": [
    {
     "data": {
      "text/html": [
       "<div>\n",
       "<style scoped>\n",
       "    .dataframe tbody tr th:only-of-type {\n",
       "        vertical-align: middle;\n",
       "    }\n",
       "\n",
       "    .dataframe tbody tr th {\n",
       "        vertical-align: top;\n",
       "    }\n",
       "\n",
       "    .dataframe thead th {\n",
       "        text-align: right;\n",
       "    }\n",
       "</style>\n",
       "<table border=\"1\" class=\"dataframe\">\n",
       "  <thead>\n",
       "    <tr style=\"text-align: right;\">\n",
       "      <th></th>\n",
       "      <th>Dummy</th>\n",
       "      <th>LR</th>\n",
       "      <th>RF</th>\n",
       "      <th>LGB</th>\n",
       "      <th>Cat</th>\n",
       "      <th>LR CW</th>\n",
       "      <th>RF CW</th>\n",
       "      <th>LGB CW</th>\n",
       "    </tr>\n",
       "  </thead>\n",
       "  <tbody>\n",
       "    <tr>\n",
       "      <th>Accuracy</th>\n",
       "      <td>0.963</td>\n",
       "      <td>0.963</td>\n",
       "      <td>0.957</td>\n",
       "      <td>0.963</td>\n",
       "      <td>0.963</td>\n",
       "      <td>0.666</td>\n",
       "      <td>0.954</td>\n",
       "      <td>0.690</td>\n",
       "    </tr>\n",
       "    <tr>\n",
       "      <th>Balanced accuracy</th>\n",
       "      <td>0.500</td>\n",
       "      <td>0.500</td>\n",
       "      <td>0.502</td>\n",
       "      <td>0.500</td>\n",
       "      <td>0.500</td>\n",
       "      <td>0.566</td>\n",
       "      <td>0.500</td>\n",
       "      <td>0.607</td>\n",
       "    </tr>\n",
       "  </tbody>\n",
       "</table>\n",
       "</div>"
      ],
      "text/plain": [
       "                   Dummy     LR     RF    LGB    Cat  LR CW  RF CW  LGB CW\n",
       "Accuracy           0.963  0.963  0.957  0.963  0.963  0.666  0.954   0.690\n",
       "Balanced accuracy  0.500  0.500  0.502  0.500  0.500  0.566  0.500   0.607"
      ]
     },
     "execution_count": 136,
     "metadata": {},
     "output_type": "execute_result"
    }
   ],
   "source": [
    "from lightgbm import LGBMClassifier\n",
    "\n",
    "lgb_clf = LGBMClassifier(random_state=42, n_jobs=2, class_weight='balanced')\n",
    "\n",
    "df_scores = evaluate_classifier(\n",
    "    lgb_clf, df_scores, \"LGB CW\"\n",
    ")\n",
    "df_scores"
   ]
  },
  {
   "cell_type": "code",
   "execution_count": 137,
   "metadata": {},
   "outputs": [
    {
     "data": {
      "text/html": [
       "<div>\n",
       "<style scoped>\n",
       "    .dataframe tbody tr th:only-of-type {\n",
       "        vertical-align: middle;\n",
       "    }\n",
       "\n",
       "    .dataframe tbody tr th {\n",
       "        vertical-align: top;\n",
       "    }\n",
       "\n",
       "    .dataframe thead th {\n",
       "        text-align: right;\n",
       "    }\n",
       "</style>\n",
       "<table border=\"1\" class=\"dataframe\">\n",
       "  <thead>\n",
       "    <tr style=\"text-align: right;\">\n",
       "      <th></th>\n",
       "      <th>Dummy</th>\n",
       "      <th>LR</th>\n",
       "      <th>RF</th>\n",
       "      <th>LGB</th>\n",
       "      <th>Cat</th>\n",
       "      <th>LR CW</th>\n",
       "      <th>RF CW</th>\n",
       "      <th>LGB CW</th>\n",
       "      <th>Cat CW</th>\n",
       "    </tr>\n",
       "  </thead>\n",
       "  <tbody>\n",
       "    <tr>\n",
       "      <th>Accuracy</th>\n",
       "      <td>0.963</td>\n",
       "      <td>0.963</td>\n",
       "      <td>0.957</td>\n",
       "      <td>0.963</td>\n",
       "      <td>0.963</td>\n",
       "      <td>0.666</td>\n",
       "      <td>0.954</td>\n",
       "      <td>0.690</td>\n",
       "      <td>0.703</td>\n",
       "    </tr>\n",
       "    <tr>\n",
       "      <th>Balanced accuracy</th>\n",
       "      <td>0.500</td>\n",
       "      <td>0.500</td>\n",
       "      <td>0.502</td>\n",
       "      <td>0.500</td>\n",
       "      <td>0.500</td>\n",
       "      <td>0.566</td>\n",
       "      <td>0.500</td>\n",
       "      <td>0.607</td>\n",
       "      <td>0.601</td>\n",
       "    </tr>\n",
       "  </tbody>\n",
       "</table>\n",
       "</div>"
      ],
      "text/plain": [
       "                   Dummy     LR     RF    LGB    Cat  LR CW  RF CW  LGB CW  \\\n",
       "Accuracy           0.963  0.963  0.957  0.963  0.963  0.666  0.954   0.690   \n",
       "Balanced accuracy  0.500  0.500  0.502  0.500  0.500  0.566  0.500   0.607   \n",
       "\n",
       "                   Cat CW  \n",
       "Accuracy            0.703  \n",
       "Balanced accuracy   0.601  "
      ]
     },
     "execution_count": 137,
     "metadata": {},
     "output_type": "execute_result"
    }
   ],
   "source": [
    "from catboost import CatBoostClassifier\n",
    "from sklearn.utils.class_weight import compute_class_weight\n",
    " \n",
    "classes = np.unique(y_train)\n",
    "weights = compute_class_weight(class_weight='balanced', classes=classes, y=y_train)\n",
    "class_weights = dict(zip(classes, weights))\n",
    "\n",
    "cat_clf = CatBoostClassifier(random_state=42, cat_features=cat_f, class_weights=class_weights, verbose=0)\n",
    "\n",
    "df_scores = evaluate_classifier(\n",
    "    cat_clf, df_scores, \"Cat CW\"\n",
    ")\n",
    "df_scores"
   ]
  },
  {
   "cell_type": "markdown",
   "metadata": {},
   "source": [
    "We can see that using `class_weight` was really effective for the linear\n",
    "model, alleviating the issue of learning from imbalanced classes. However,\n",
    "the `RandomForestClassifier` is still biased toward the majority class,\n",
    "mainly due to the criterion which is not suited enough to fight the class\n",
    "imbalance.\n",
    "\n",
    "Resample the training set during learning\n",
    ".........................................\n",
    "\n",
    "Another way is to resample the training set by under-sampling or\n",
    "over-sampling some of the samples. `imbalanced-learn` provides some samplers\n",
    "to do such processing.\n",
    "\n"
   ]
  },
  {
   "cell_type": "code",
   "execution_count": 138,
   "metadata": {
    "collapsed": false,
    "jupyter": {
     "outputs_hidden": false
    }
   },
   "outputs": [
    {
     "data": {
      "text/html": [
       "<div>\n",
       "<style scoped>\n",
       "    .dataframe tbody tr th:only-of-type {\n",
       "        vertical-align: middle;\n",
       "    }\n",
       "\n",
       "    .dataframe tbody tr th {\n",
       "        vertical-align: top;\n",
       "    }\n",
       "\n",
       "    .dataframe thead th {\n",
       "        text-align: right;\n",
       "    }\n",
       "</style>\n",
       "<table border=\"1\" class=\"dataframe\">\n",
       "  <thead>\n",
       "    <tr style=\"text-align: right;\">\n",
       "      <th></th>\n",
       "      <th>Dummy</th>\n",
       "      <th>LR</th>\n",
       "      <th>RF</th>\n",
       "      <th>LGB</th>\n",
       "      <th>Cat</th>\n",
       "      <th>LR CW</th>\n",
       "      <th>RF CW</th>\n",
       "      <th>LGB CW</th>\n",
       "      <th>Cat CW</th>\n",
       "      <th>LR US</th>\n",
       "    </tr>\n",
       "  </thead>\n",
       "  <tbody>\n",
       "    <tr>\n",
       "      <th>Accuracy</th>\n",
       "      <td>0.963</td>\n",
       "      <td>0.963</td>\n",
       "      <td>0.957</td>\n",
       "      <td>0.963</td>\n",
       "      <td>0.963</td>\n",
       "      <td>0.666</td>\n",
       "      <td>0.954</td>\n",
       "      <td>0.690</td>\n",
       "      <td>0.703</td>\n",
       "      <td>0.663</td>\n",
       "    </tr>\n",
       "    <tr>\n",
       "      <th>Balanced accuracy</th>\n",
       "      <td>0.500</td>\n",
       "      <td>0.500</td>\n",
       "      <td>0.502</td>\n",
       "      <td>0.500</td>\n",
       "      <td>0.500</td>\n",
       "      <td>0.566</td>\n",
       "      <td>0.500</td>\n",
       "      <td>0.607</td>\n",
       "      <td>0.601</td>\n",
       "      <td>0.566</td>\n",
       "    </tr>\n",
       "  </tbody>\n",
       "</table>\n",
       "</div>"
      ],
      "text/plain": [
       "                   Dummy     LR     RF    LGB    Cat  LR CW  RF CW  LGB CW  \\\n",
       "Accuracy           0.963  0.963  0.957  0.963  0.963  0.666  0.954   0.690   \n",
       "Balanced accuracy  0.500  0.500  0.502  0.500  0.500  0.566  0.500   0.607   \n",
       "\n",
       "                   Cat CW  LR US  \n",
       "Accuracy            0.703  0.663  \n",
       "Balanced accuracy   0.601  0.566  "
      ]
     },
     "execution_count": 138,
     "metadata": {},
     "output_type": "execute_result"
    }
   ],
   "source": [
    "from imblearn.pipeline import make_pipeline as make_pipeline_with_sampler\n",
    "from imblearn.under_sampling import RandomUnderSampler\n",
    "\n",
    "lr_clf = make_pipeline_with_sampler(\n",
    "    preprocessor_linear,\n",
    "    RandomUnderSampler(random_state=42),\n",
    "    LogisticRegression(max_iter=1000)\n",
    ")\n",
    "df_scores = evaluate_classifier(\n",
    "    lr_clf, df_scores, \"LR US\"\n",
    ")\n",
    "df_scores"
   ]
  },
  {
   "cell_type": "code",
   "execution_count": 139,
   "metadata": {
    "collapsed": false,
    "jupyter": {
     "outputs_hidden": false
    }
   },
   "outputs": [
    {
     "data": {
      "text/html": [
       "<div>\n",
       "<style scoped>\n",
       "    .dataframe tbody tr th:only-of-type {\n",
       "        vertical-align: middle;\n",
       "    }\n",
       "\n",
       "    .dataframe tbody tr th {\n",
       "        vertical-align: top;\n",
       "    }\n",
       "\n",
       "    .dataframe thead th {\n",
       "        text-align: right;\n",
       "    }\n",
       "</style>\n",
       "<table border=\"1\" class=\"dataframe\">\n",
       "  <thead>\n",
       "    <tr style=\"text-align: right;\">\n",
       "      <th></th>\n",
       "      <th>Dummy</th>\n",
       "      <th>LR</th>\n",
       "      <th>RF</th>\n",
       "      <th>LGB</th>\n",
       "      <th>Cat</th>\n",
       "      <th>LR CW</th>\n",
       "      <th>RF CW</th>\n",
       "      <th>LGB CW</th>\n",
       "      <th>Cat CW</th>\n",
       "      <th>LR US</th>\n",
       "      <th>RF US</th>\n",
       "    </tr>\n",
       "  </thead>\n",
       "  <tbody>\n",
       "    <tr>\n",
       "      <th>Accuracy</th>\n",
       "      <td>0.963</td>\n",
       "      <td>0.963</td>\n",
       "      <td>0.957</td>\n",
       "      <td>0.963</td>\n",
       "      <td>0.963</td>\n",
       "      <td>0.666</td>\n",
       "      <td>0.954</td>\n",
       "      <td>0.690</td>\n",
       "      <td>0.703</td>\n",
       "      <td>0.663</td>\n",
       "      <td>0.604</td>\n",
       "    </tr>\n",
       "    <tr>\n",
       "      <th>Balanced accuracy</th>\n",
       "      <td>0.500</td>\n",
       "      <td>0.500</td>\n",
       "      <td>0.502</td>\n",
       "      <td>0.500</td>\n",
       "      <td>0.500</td>\n",
       "      <td>0.566</td>\n",
       "      <td>0.500</td>\n",
       "      <td>0.607</td>\n",
       "      <td>0.601</td>\n",
       "      <td>0.566</td>\n",
       "      <td>0.578</td>\n",
       "    </tr>\n",
       "  </tbody>\n",
       "</table>\n",
       "</div>"
      ],
      "text/plain": [
       "                   Dummy     LR     RF    LGB    Cat  LR CW  RF CW  LGB CW  \\\n",
       "Accuracy           0.963  0.963  0.957  0.963  0.963  0.666  0.954   0.690   \n",
       "Balanced accuracy  0.500  0.500  0.502  0.500  0.500  0.566  0.500   0.607   \n",
       "\n",
       "                   Cat CW  LR US  RF US  \n",
       "Accuracy            0.703  0.663  0.604  \n",
       "Balanced accuracy   0.601  0.566  0.578  "
      ]
     },
     "execution_count": 139,
     "metadata": {},
     "output_type": "execute_result"
    }
   ],
   "source": [
    "rf_clf = make_pipeline_with_sampler(\n",
    "    preprocessor_tree,\n",
    "    RandomUnderSampler(random_state=42),\n",
    "    RandomForestClassifier(random_state=42, n_jobs=2)\n",
    ")\n",
    "\n",
    "df_scores = evaluate_classifier(\n",
    "    rf_clf, df_scores, \"RF US\"\n",
    ")\n",
    "df_scores"
   ]
  },
  {
   "cell_type": "code",
   "execution_count": 140,
   "metadata": {},
   "outputs": [
    {
     "data": {
      "text/html": [
       "<div>\n",
       "<style scoped>\n",
       "    .dataframe tbody tr th:only-of-type {\n",
       "        vertical-align: middle;\n",
       "    }\n",
       "\n",
       "    .dataframe tbody tr th {\n",
       "        vertical-align: top;\n",
       "    }\n",
       "\n",
       "    .dataframe thead th {\n",
       "        text-align: right;\n",
       "    }\n",
       "</style>\n",
       "<table border=\"1\" class=\"dataframe\">\n",
       "  <thead>\n",
       "    <tr style=\"text-align: right;\">\n",
       "      <th></th>\n",
       "      <th>Dummy</th>\n",
       "      <th>LR</th>\n",
       "      <th>RF</th>\n",
       "      <th>LGB</th>\n",
       "      <th>Cat</th>\n",
       "      <th>LR CW</th>\n",
       "      <th>RF CW</th>\n",
       "      <th>LGB CW</th>\n",
       "      <th>Cat CW</th>\n",
       "      <th>LR US</th>\n",
       "      <th>RF US</th>\n",
       "      <th>LGB US</th>\n",
       "    </tr>\n",
       "  </thead>\n",
       "  <tbody>\n",
       "    <tr>\n",
       "      <th>Accuracy</th>\n",
       "      <td>0.963</td>\n",
       "      <td>0.963</td>\n",
       "      <td>0.957</td>\n",
       "      <td>0.963</td>\n",
       "      <td>0.963</td>\n",
       "      <td>0.666</td>\n",
       "      <td>0.954</td>\n",
       "      <td>0.690</td>\n",
       "      <td>0.703</td>\n",
       "      <td>0.663</td>\n",
       "      <td>0.604</td>\n",
       "      <td>0.663</td>\n",
       "    </tr>\n",
       "    <tr>\n",
       "      <th>Balanced accuracy</th>\n",
       "      <td>0.500</td>\n",
       "      <td>0.500</td>\n",
       "      <td>0.502</td>\n",
       "      <td>0.500</td>\n",
       "      <td>0.500</td>\n",
       "      <td>0.566</td>\n",
       "      <td>0.500</td>\n",
       "      <td>0.607</td>\n",
       "      <td>0.601</td>\n",
       "      <td>0.566</td>\n",
       "      <td>0.578</td>\n",
       "      <td>0.602</td>\n",
       "    </tr>\n",
       "  </tbody>\n",
       "</table>\n",
       "</div>"
      ],
      "text/plain": [
       "                   Dummy     LR     RF    LGB    Cat  LR CW  RF CW  LGB CW  \\\n",
       "Accuracy           0.963  0.963  0.957  0.963  0.963  0.666  0.954   0.690   \n",
       "Balanced accuracy  0.500  0.500  0.502  0.500  0.500  0.566  0.500   0.607   \n",
       "\n",
       "                   Cat CW  LR US  RF US  LGB US  \n",
       "Accuracy            0.703  0.663  0.604   0.663  \n",
       "Balanced accuracy   0.601  0.566  0.578   0.602  "
      ]
     },
     "execution_count": 140,
     "metadata": {},
     "output_type": "execute_result"
    }
   ],
   "source": [
    "from lightgbm import LGBMClassifier\n",
    "lgb_clf = make_pipeline_with_sampler(\n",
    "    preprocessor_tree,\n",
    "    RandomUnderSampler(random_state=42),\n",
    "    LGBMClassifier(random_state=42, n_jobs=2)\n",
    ")\n",
    "\n",
    "df_scores = evaluate_classifier(\n",
    "    lgb_clf, df_scores, \"LGB US\"\n",
    ")\n",
    "df_scores"
   ]
  },
  {
   "cell_type": "code",
   "execution_count": 141,
   "metadata": {},
   "outputs": [
    {
     "data": {
      "text/html": [
       "<div>\n",
       "<style scoped>\n",
       "    .dataframe tbody tr th:only-of-type {\n",
       "        vertical-align: middle;\n",
       "    }\n",
       "\n",
       "    .dataframe tbody tr th {\n",
       "        vertical-align: top;\n",
       "    }\n",
       "\n",
       "    .dataframe thead th {\n",
       "        text-align: right;\n",
       "    }\n",
       "</style>\n",
       "<table border=\"1\" class=\"dataframe\">\n",
       "  <thead>\n",
       "    <tr style=\"text-align: right;\">\n",
       "      <th></th>\n",
       "      <th>Dummy</th>\n",
       "      <th>LR</th>\n",
       "      <th>RF</th>\n",
       "      <th>LGB</th>\n",
       "      <th>Cat</th>\n",
       "      <th>LR CW</th>\n",
       "      <th>RF CW</th>\n",
       "      <th>LGB CW</th>\n",
       "      <th>Cat CW</th>\n",
       "      <th>LR US</th>\n",
       "      <th>RF US</th>\n",
       "      <th>LGB US</th>\n",
       "      <th>Cat US</th>\n",
       "    </tr>\n",
       "  </thead>\n",
       "  <tbody>\n",
       "    <tr>\n",
       "      <th>Accuracy</th>\n",
       "      <td>0.963</td>\n",
       "      <td>0.963</td>\n",
       "      <td>0.957</td>\n",
       "      <td>0.963</td>\n",
       "      <td>0.963</td>\n",
       "      <td>0.666</td>\n",
       "      <td>0.954</td>\n",
       "      <td>0.690</td>\n",
       "      <td>0.703</td>\n",
       "      <td>0.663</td>\n",
       "      <td>0.604</td>\n",
       "      <td>0.663</td>\n",
       "      <td>0.703</td>\n",
       "    </tr>\n",
       "    <tr>\n",
       "      <th>Balanced accuracy</th>\n",
       "      <td>0.500</td>\n",
       "      <td>0.500</td>\n",
       "      <td>0.502</td>\n",
       "      <td>0.500</td>\n",
       "      <td>0.500</td>\n",
       "      <td>0.566</td>\n",
       "      <td>0.500</td>\n",
       "      <td>0.607</td>\n",
       "      <td>0.601</td>\n",
       "      <td>0.566</td>\n",
       "      <td>0.578</td>\n",
       "      <td>0.602</td>\n",
       "      <td>0.601</td>\n",
       "    </tr>\n",
       "  </tbody>\n",
       "</table>\n",
       "</div>"
      ],
      "text/plain": [
       "                   Dummy     LR     RF    LGB    Cat  LR CW  RF CW  LGB CW  \\\n",
       "Accuracy           0.963  0.963  0.957  0.963  0.963  0.666  0.954   0.690   \n",
       "Balanced accuracy  0.500  0.500  0.502  0.500  0.500  0.566  0.500   0.607   \n",
       "\n",
       "                   Cat CW  LR US  RF US  LGB US  Cat US  \n",
       "Accuracy            0.703  0.663  0.604   0.663   0.703  \n",
       "Balanced accuracy   0.601  0.566  0.578   0.602   0.601  "
      ]
     },
     "execution_count": 141,
     "metadata": {},
     "output_type": "execute_result"
    }
   ],
   "source": [
    "from catboost import CatBoostClassifier\n",
    "lgb_clf = make_pipeline_with_sampler(\n",
    "    RandomUnderSampler(random_state=42),\n",
    "    CatBoostClassifier(random_state=42, cat_features=cat_f, verbose=0)\n",
    ")\n",
    "\n",
    "df_scores = evaluate_classifier(\n",
    "    cat_clf, df_scores, \"Cat US\"\n",
    ")\n",
    "df_scores"
   ]
  },
  {
   "cell_type": "markdown",
   "metadata": {},
   "source": [
    "Applying a random under-sampler before the training of the linear model or\n",
    "random forest, allows to not focus on the majority class at the cost of\n",
    "making more mistake for samples in the majority class (i.e. decreased\n",
    "accuracy).\n",
    "\n",
    "We could apply any type of samplers and find which sampler is working best\n",
    "on the current dataset.\n",
    "\n",
    "Instead, we will present another way by using classifiers which will apply\n",
    "sampling internally.\n",
    "\n",
    "Use of `BalancedRandomForestClassifier` and `BalancedBaggingClassifier`\n",
    ".......................................................................\n",
    "\n",
    "We already showed that random under-sampling can be effective on decision\n",
    "tree. However, instead of under-sampling once the dataset, one could\n",
    "under-sample the original dataset before to take a bootstrap sample. This is\n",
    "the base of the `BalancedRandomForestClassifier` and\n",
    "`BalancedBaggingClassifier`.\n",
    "\n"
   ]
  },
  {
   "cell_type": "code",
   "execution_count": 142,
   "metadata": {
    "collapsed": false,
    "jupyter": {
     "outputs_hidden": false
    }
   },
   "outputs": [
    {
     "data": {
      "text/html": [
       "<div>\n",
       "<style scoped>\n",
       "    .dataframe tbody tr th:only-of-type {\n",
       "        vertical-align: middle;\n",
       "    }\n",
       "\n",
       "    .dataframe tbody tr th {\n",
       "        vertical-align: top;\n",
       "    }\n",
       "\n",
       "    .dataframe thead th {\n",
       "        text-align: right;\n",
       "    }\n",
       "</style>\n",
       "<table border=\"1\" class=\"dataframe\">\n",
       "  <thead>\n",
       "    <tr style=\"text-align: right;\">\n",
       "      <th></th>\n",
       "      <th>Dummy</th>\n",
       "      <th>LR</th>\n",
       "      <th>RF</th>\n",
       "      <th>LGB</th>\n",
       "      <th>Cat</th>\n",
       "      <th>LR CW</th>\n",
       "      <th>RF CW</th>\n",
       "      <th>LGB CW</th>\n",
       "      <th>Cat CW</th>\n",
       "      <th>LR US</th>\n",
       "      <th>RF US</th>\n",
       "      <th>LGB US</th>\n",
       "      <th>Cat US</th>\n",
       "      <th>RF Bal</th>\n",
       "    </tr>\n",
       "  </thead>\n",
       "  <tbody>\n",
       "    <tr>\n",
       "      <th>Accuracy</th>\n",
       "      <td>0.963</td>\n",
       "      <td>0.963</td>\n",
       "      <td>0.957</td>\n",
       "      <td>0.963</td>\n",
       "      <td>0.963</td>\n",
       "      <td>0.666</td>\n",
       "      <td>0.954</td>\n",
       "      <td>0.690</td>\n",
       "      <td>0.703</td>\n",
       "      <td>0.663</td>\n",
       "      <td>0.604</td>\n",
       "      <td>0.663</td>\n",
       "      <td>0.703</td>\n",
       "      <td>0.632</td>\n",
       "    </tr>\n",
       "    <tr>\n",
       "      <th>Balanced accuracy</th>\n",
       "      <td>0.500</td>\n",
       "      <td>0.500</td>\n",
       "      <td>0.502</td>\n",
       "      <td>0.500</td>\n",
       "      <td>0.500</td>\n",
       "      <td>0.566</td>\n",
       "      <td>0.500</td>\n",
       "      <td>0.607</td>\n",
       "      <td>0.601</td>\n",
       "      <td>0.566</td>\n",
       "      <td>0.578</td>\n",
       "      <td>0.602</td>\n",
       "      <td>0.601</td>\n",
       "      <td>0.591</td>\n",
       "    </tr>\n",
       "  </tbody>\n",
       "</table>\n",
       "</div>"
      ],
      "text/plain": [
       "                   Dummy     LR     RF    LGB    Cat  LR CW  RF CW  LGB CW  \\\n",
       "Accuracy           0.963  0.963  0.957  0.963  0.963  0.666  0.954   0.690   \n",
       "Balanced accuracy  0.500  0.500  0.502  0.500  0.500  0.566  0.500   0.607   \n",
       "\n",
       "                   Cat CW  LR US  RF US  LGB US  Cat US  RF Bal  \n",
       "Accuracy            0.703  0.663  0.604   0.663   0.703   0.632  \n",
       "Balanced accuracy   0.601  0.566  0.578   0.602   0.601   0.591  "
      ]
     },
     "execution_count": 142,
     "metadata": {},
     "output_type": "execute_result"
    }
   ],
   "source": [
    "from imblearn.ensemble import BalancedRandomForestClassifier\n",
    "\n",
    "rf_clf = make_pipeline(\n",
    "    preprocessor_tree,\n",
    "    BalancedRandomForestClassifier(random_state=42, n_jobs=2)\n",
    ")\n",
    "\n",
    "df_scores = evaluate_classifier(rf_clf, df_scores, \"RF Bal\")\n",
    "df_scores"
   ]
  },
  {
   "cell_type": "markdown",
   "metadata": {},
   "source": [
    "The performance with the `BalancedRandomForestClassifier` is better than\n",
    "applying a single random under-sampling. We will use a gradient-boosting\n",
    "classifier within a `BalancedBaggingClassifier`.\n",
    "\n"
   ]
  },
  {
   "cell_type": "code",
   "execution_count": 143,
   "metadata": {
    "collapsed": false,
    "jupyter": {
     "outputs_hidden": false
    }
   },
   "outputs": [
    {
     "data": {
      "text/html": [
       "<div>\n",
       "<style scoped>\n",
       "    .dataframe tbody tr th:only-of-type {\n",
       "        vertical-align: middle;\n",
       "    }\n",
       "\n",
       "    .dataframe tbody tr th {\n",
       "        vertical-align: top;\n",
       "    }\n",
       "\n",
       "    .dataframe thead th {\n",
       "        text-align: right;\n",
       "    }\n",
       "</style>\n",
       "<table border=\"1\" class=\"dataframe\">\n",
       "  <thead>\n",
       "    <tr style=\"text-align: right;\">\n",
       "      <th></th>\n",
       "      <th>Dummy</th>\n",
       "      <th>LR</th>\n",
       "      <th>RF</th>\n",
       "      <th>LGB</th>\n",
       "      <th>Cat</th>\n",
       "      <th>LR CW</th>\n",
       "      <th>RF CW</th>\n",
       "      <th>LGB CW</th>\n",
       "      <th>Cat CW</th>\n",
       "      <th>LR US</th>\n",
       "      <th>RF US</th>\n",
       "      <th>LGB US</th>\n",
       "      <th>Cat US</th>\n",
       "      <th>RF Bal</th>\n",
       "      <th>Bagging Bal</th>\n",
       "    </tr>\n",
       "  </thead>\n",
       "  <tbody>\n",
       "    <tr>\n",
       "      <th>Accuracy</th>\n",
       "      <td>0.963</td>\n",
       "      <td>0.963</td>\n",
       "      <td>0.957</td>\n",
       "      <td>0.963</td>\n",
       "      <td>0.963</td>\n",
       "      <td>0.666</td>\n",
       "      <td>0.954</td>\n",
       "      <td>0.690</td>\n",
       "      <td>0.703</td>\n",
       "      <td>0.663</td>\n",
       "      <td>0.604</td>\n",
       "      <td>0.663</td>\n",
       "      <td>0.703</td>\n",
       "      <td>0.632</td>\n",
       "      <td>0.690</td>\n",
       "    </tr>\n",
       "    <tr>\n",
       "      <th>Balanced accuracy</th>\n",
       "      <td>0.500</td>\n",
       "      <td>0.500</td>\n",
       "      <td>0.502</td>\n",
       "      <td>0.500</td>\n",
       "      <td>0.500</td>\n",
       "      <td>0.566</td>\n",
       "      <td>0.500</td>\n",
       "      <td>0.607</td>\n",
       "      <td>0.601</td>\n",
       "      <td>0.566</td>\n",
       "      <td>0.578</td>\n",
       "      <td>0.602</td>\n",
       "      <td>0.601</td>\n",
       "      <td>0.591</td>\n",
       "      <td>0.605</td>\n",
       "    </tr>\n",
       "  </tbody>\n",
       "</table>\n",
       "</div>"
      ],
      "text/plain": [
       "                   Dummy     LR     RF    LGB    Cat  LR CW  RF CW  LGB CW  \\\n",
       "Accuracy           0.963  0.963  0.957  0.963  0.963  0.666  0.954   0.690   \n",
       "Balanced accuracy  0.500  0.500  0.502  0.500  0.500  0.566  0.500   0.607   \n",
       "\n",
       "                   Cat CW  LR US  RF US  LGB US  Cat US  RF Bal  Bagging Bal  \n",
       "Accuracy            0.703  0.663  0.604   0.663   0.703   0.632        0.690  \n",
       "Balanced accuracy   0.601  0.566  0.578   0.602   0.601   0.591        0.605  "
      ]
     },
     "execution_count": 143,
     "metadata": {},
     "output_type": "execute_result"
    }
   ],
   "source": [
    "from sklearn.experimental import enable_hist_gradient_boosting\n",
    "from sklearn.ensemble import HistGradientBoostingClassifier\n",
    "from imblearn.ensemble import BalancedBaggingClassifier\n",
    "\n",
    "bag_clf = make_pipeline(\n",
    "    preprocessor_tree,\n",
    "    BalancedBaggingClassifier(\n",
    "        base_estimator=HistGradientBoostingClassifier(random_state=42),\n",
    "        n_estimators=10, random_state=42, n_jobs=2\n",
    "    )\n",
    ")\n",
    "\n",
    "df_scores = evaluate_classifier(\n",
    "    bag_clf, df_scores, \"Bagging Bal\"\n",
    ")\n",
    "df_scores"
   ]
  },
  {
   "cell_type": "markdown",
   "metadata": {},
   "source": [
    "This last approach is the most effective. The different under-sampling allows\n",
    "to bring some diversity for the different GBDT to learn and not focus on a\n",
    "portion of the majority class.\n",
    "\n",
    "We will repeat the same experiment but with a ratio of 100:1 and make a\n",
    "similar analysis.\n",
    "\n"
   ]
  },
  {
   "cell_type": "code",
   "execution_count": 144,
   "metadata": {},
   "outputs": [
    {
     "data": {
      "text/html": [
       "<div>\n",
       "<style scoped>\n",
       "    .dataframe tbody tr th:only-of-type {\n",
       "        vertical-align: middle;\n",
       "    }\n",
       "\n",
       "    .dataframe tbody tr th {\n",
       "        vertical-align: top;\n",
       "    }\n",
       "\n",
       "    .dataframe thead th {\n",
       "        text-align: right;\n",
       "    }\n",
       "</style>\n",
       "<table border=\"1\" class=\"dataframe\">\n",
       "  <thead>\n",
       "    <tr style=\"text-align: right;\">\n",
       "      <th></th>\n",
       "      <th>Dummy</th>\n",
       "      <th>LR</th>\n",
       "      <th>RF</th>\n",
       "      <th>LGB</th>\n",
       "      <th>Cat</th>\n",
       "      <th>LR CW</th>\n",
       "      <th>RF CW</th>\n",
       "      <th>LGB CW</th>\n",
       "      <th>Cat CW</th>\n",
       "      <th>LR US</th>\n",
       "      <th>RF US</th>\n",
       "      <th>LGB US</th>\n",
       "      <th>Cat US</th>\n",
       "      <th>RF Bal</th>\n",
       "      <th>Bagging Bal</th>\n",
       "      <th>LGB Bal</th>\n",
       "    </tr>\n",
       "  </thead>\n",
       "  <tbody>\n",
       "    <tr>\n",
       "      <th>Accuracy</th>\n",
       "      <td>0.963</td>\n",
       "      <td>0.963</td>\n",
       "      <td>0.957</td>\n",
       "      <td>0.963</td>\n",
       "      <td>0.963</td>\n",
       "      <td>0.666</td>\n",
       "      <td>0.954</td>\n",
       "      <td>0.690</td>\n",
       "      <td>0.703</td>\n",
       "      <td>0.663</td>\n",
       "      <td>0.604</td>\n",
       "      <td>0.663</td>\n",
       "      <td>0.703</td>\n",
       "      <td>0.632</td>\n",
       "      <td>0.690</td>\n",
       "      <td>0.690</td>\n",
       "    </tr>\n",
       "    <tr>\n",
       "      <th>Balanced accuracy</th>\n",
       "      <td>0.500</td>\n",
       "      <td>0.500</td>\n",
       "      <td>0.502</td>\n",
       "      <td>0.500</td>\n",
       "      <td>0.500</td>\n",
       "      <td>0.566</td>\n",
       "      <td>0.500</td>\n",
       "      <td>0.607</td>\n",
       "      <td>0.601</td>\n",
       "      <td>0.566</td>\n",
       "      <td>0.578</td>\n",
       "      <td>0.602</td>\n",
       "      <td>0.601</td>\n",
       "      <td>0.591</td>\n",
       "      <td>0.605</td>\n",
       "      <td>0.607</td>\n",
       "    </tr>\n",
       "  </tbody>\n",
       "</table>\n",
       "</div>"
      ],
      "text/plain": [
       "                   Dummy     LR     RF    LGB    Cat  LR CW  RF CW  LGB CW  \\\n",
       "Accuracy           0.963  0.963  0.957  0.963  0.963  0.666  0.954   0.690   \n",
       "Balanced accuracy  0.500  0.500  0.502  0.500  0.500  0.566  0.500   0.607   \n",
       "\n",
       "                   Cat CW  LR US  RF US  LGB US  Cat US  RF Bal  Bagging Bal  \\\n",
       "Accuracy            0.703  0.663  0.604   0.663   0.703   0.632        0.690   \n",
       "Balanced accuracy   0.601  0.566  0.578   0.602   0.601   0.591        0.605   \n",
       "\n",
       "                   LGB Bal  \n",
       "Accuracy             0.690  \n",
       "Balanced accuracy    0.607  "
      ]
     },
     "execution_count": 144,
     "metadata": {},
     "output_type": "execute_result"
    }
   ],
   "source": [
    "from lightgbm import LGBMClassifier\n",
    "\n",
    "bag_clf = make_pipeline(\n",
    "    preprocessor_tree,\n",
    "    BalancedBaggingClassifier(\n",
    "        base_estimator=LGBMClassifier(random_state=42),\n",
    "        n_estimators=50, random_state=42, n_jobs=2\n",
    "    )\n",
    ")\n",
    "\n",
    "df_scores = evaluate_classifier(\n",
    "    bag_clf, df_scores, \"LGB Bal\"\n",
    ")\n",
    "df_scores"
   ]
  },
  {
   "cell_type": "code",
   "execution_count": 145,
   "metadata": {},
   "outputs": [
    {
     "data": {
      "text/html": [
       "<div>\n",
       "<style scoped>\n",
       "    .dataframe tbody tr th:only-of-type {\n",
       "        vertical-align: middle;\n",
       "    }\n",
       "\n",
       "    .dataframe tbody tr th {\n",
       "        vertical-align: top;\n",
       "    }\n",
       "\n",
       "    .dataframe thead th {\n",
       "        text-align: right;\n",
       "    }\n",
       "</style>\n",
       "<table border=\"1\" class=\"dataframe\">\n",
       "  <thead>\n",
       "    <tr style=\"text-align: right;\">\n",
       "      <th></th>\n",
       "      <th>Dummy</th>\n",
       "      <th>LR</th>\n",
       "      <th>RF</th>\n",
       "      <th>LGB</th>\n",
       "      <th>Cat</th>\n",
       "      <th>LR CW</th>\n",
       "      <th>RF CW</th>\n",
       "      <th>LGB CW</th>\n",
       "      <th>Cat CW</th>\n",
       "      <th>LR US</th>\n",
       "      <th>RF US</th>\n",
       "      <th>LGB US</th>\n",
       "      <th>Cat US</th>\n",
       "      <th>RF Bal</th>\n",
       "      <th>Bagging Bal</th>\n",
       "      <th>LGB Bal</th>\n",
       "      <th>Cat Bal</th>\n",
       "    </tr>\n",
       "  </thead>\n",
       "  <tbody>\n",
       "    <tr>\n",
       "      <th>Accuracy</th>\n",
       "      <td>0.963</td>\n",
       "      <td>0.963</td>\n",
       "      <td>0.957</td>\n",
       "      <td>0.963</td>\n",
       "      <td>0.963</td>\n",
       "      <td>0.666</td>\n",
       "      <td>0.954</td>\n",
       "      <td>0.690</td>\n",
       "      <td>0.703</td>\n",
       "      <td>0.663</td>\n",
       "      <td>0.604</td>\n",
       "      <td>0.663</td>\n",
       "      <td>0.703</td>\n",
       "      <td>0.632</td>\n",
       "      <td>0.690</td>\n",
       "      <td>0.690</td>\n",
       "      <td>0.683</td>\n",
       "    </tr>\n",
       "    <tr>\n",
       "      <th>Balanced accuracy</th>\n",
       "      <td>0.500</td>\n",
       "      <td>0.500</td>\n",
       "      <td>0.502</td>\n",
       "      <td>0.500</td>\n",
       "      <td>0.500</td>\n",
       "      <td>0.566</td>\n",
       "      <td>0.500</td>\n",
       "      <td>0.607</td>\n",
       "      <td>0.601</td>\n",
       "      <td>0.566</td>\n",
       "      <td>0.578</td>\n",
       "      <td>0.602</td>\n",
       "      <td>0.601</td>\n",
       "      <td>0.591</td>\n",
       "      <td>0.605</td>\n",
       "      <td>0.607</td>\n",
       "      <td>0.604</td>\n",
       "    </tr>\n",
       "  </tbody>\n",
       "</table>\n",
       "</div>"
      ],
      "text/plain": [
       "                   Dummy     LR     RF    LGB    Cat  LR CW  RF CW  LGB CW  \\\n",
       "Accuracy           0.963  0.963  0.957  0.963  0.963  0.666  0.954   0.690   \n",
       "Balanced accuracy  0.500  0.500  0.502  0.500  0.500  0.566  0.500   0.607   \n",
       "\n",
       "                   Cat CW  LR US  RF US  LGB US  Cat US  RF Bal  Bagging Bal  \\\n",
       "Accuracy            0.703  0.663  0.604   0.663   0.703   0.632        0.690   \n",
       "Balanced accuracy   0.601  0.566  0.578   0.602   0.601   0.591        0.605   \n",
       "\n",
       "                   LGB Bal  Cat Bal  \n",
       "Accuracy             0.690    0.683  \n",
       "Balanced accuracy    0.607    0.604  "
      ]
     },
     "execution_count": 145,
     "metadata": {},
     "output_type": "execute_result"
    }
   ],
   "source": [
    "bag_clf = make_pipeline(\n",
    "    preprocessor_tree,\n",
    "    BalancedBaggingClassifier(\n",
    "        base_estimator=CatBoostClassifier(random_state=42, verbose=0),\n",
    "        n_estimators=10, random_state=42, n_jobs=2\n",
    "    )\n",
    ")\n",
    "\n",
    "df_scores = evaluate_classifier(\n",
    "    bag_clf, df_scores, \"Cat Bal\"\n",
    ")\n",
    "df_scores"
   ]
  },
  {
   "cell_type": "markdown",
   "metadata": {},
   "source": [
    "Increase imbalanced ratio\n",
    "##############################################################################\n",
    "\n"
   ]
  },
  {
   "cell_type": "markdown",
   "metadata": {},
   "source": [
    "When we analyse the results, we can draw similar conclusions than in the\n",
    "previous discussion. However, we can observe that the strategy\n",
    "`class_weight=\"balanced\"` does not improve the performance when using a\n",
    "`RandomForestClassifier`. A resampling is indeed required. The most effective\n",
    "method remains the `BalancedBaggingClassifier` using a GBDT as a base\n",
    "learner.\n",
    "\n"
   ]
  }
 ],
 "metadata": {
  "kernelspec": {
   "display_name": "Python [conda env:boruta]",
   "language": "python",
   "name": "conda-env-boruta-py"
  },
  "language_info": {
   "codemirror_mode": {
    "name": "ipython",
    "version": 3
   },
   "file_extension": ".py",
   "mimetype": "text/x-python",
   "name": "python",
   "nbconvert_exporter": "python",
   "pygments_lexer": "ipython3",
   "version": "3.8.10"
  }
 },
 "nbformat": 4,
 "nbformat_minor": 4
}
